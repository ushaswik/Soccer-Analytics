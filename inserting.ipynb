{
 "cells": [
  {
   "cell_type": "code",
   "execution_count": 1,
   "metadata": {},
   "outputs": [
    {
     "name": "stdout",
     "output_type": "stream",
     "text": [
      "Filtered data saved successfully.\n"
     ]
    }
   ],
   "source": [
    "import pandas as pd\n",
    "players = pd.read_csv('/Users/manishchetlapally/Documents/Spring 2024/DMQL/DMQLProject/Soccer/players.csv')\n",
    "player_valuations = pd.read_csv('/Users/manishchetlapally/Documents/Spring 2024/DMQL/DMQLProject/Soccer/player_valuations.csv')\n",
    "players['player_id'] = players['player_id'].astype(int)\n",
    "player_valuations['player_id'] = player_valuations['player_id'].astype(int)\n",
    "valid_ids = set(players['player_id'])\n",
    "filtered_player_valuations = player_valuations[player_valuations['player_id'].isin(valid_ids)]\n",
    "filtered_player_valuations.to_csv('//Users/manishchetlapally/Documents/Spring 2024/DMQL/DMQLProject/Soccer/player_valuations.csv', index=False)\n",
    "print(\"Filtered data saved successfully.\")\n"
   ]
  },
  {
   "cell_type": "code",
   "execution_count": 5,
   "metadata": {},
   "outputs": [
    {
     "name": "stdout",
     "output_type": "stream",
     "text": [
      "Filtered data saved successfully.\n"
     ]
    }
   ],
   "source": [
    "import pandas as pd\n",
    "players = pd.read_csv('/Users/manishchetlapally/Documents/Spring 2024/DMQL/DMQLProject/Soccer/players.csv')\n",
    "appearances = pd.read_csv('/Users/manishchetlapally/Documents/Spring 2024/DMQL/DMQLProject/Soccer/appearances.csv')\n",
    "players['player_id'] = players['player_id'].astype(int)\n",
    "appearances['player_id'] = appearances['player_id'].astype(int)\n",
    "valid_ids = set(players['player_id'])\n",
    "filtered_appearances = appearances[appearances['player_id'].isin(valid_ids)]\n",
    "filtered_appearances.to_csv('/Users/manishchetlapally/Documents/Spring 2024/DMQL/DMQLProject/Soccer/appearances.csv', index=False)\n",
    "\n",
    "print(\"Filtered data saved successfully.\")\n"
   ]
  },
  {
   "cell_type": "code",
   "execution_count": 8,
   "metadata": {},
   "outputs": [
    {
     "name": "stdout",
     "output_type": "stream",
     "text": [
      "Filtered data saved successfully.\n"
     ]
    }
   ],
   "source": [
    "import pandas as pd\n",
    "players = pd.read_csv('/Users/manishchetlapally/Documents/Spring 2024/DMQL/DMQLProject/Soccer/players.csv')\n",
    "appearances = pd.read_csv('/Users/manishchetlapally/Documents/Spring 2024/DMQL/DMQLProject/Soccer/appearances.csv')\n",
    "players['player_id'] = players['player_id'].astype(int)\n",
    "appearances['player_id'] = appearances['player_id'].astype(int)\n",
    "valid_ids = set(players['player_id'])\n",
    "filtered_appearances = appearances[appearances['player_id'].isin(valid_ids)]\n",
    "filtered_appearances.to_csv('/Users/manishchetlapally/Documents/Spring 2024/DMQL/DMQLProject/Soccer/appearances.csv', index=False)\n",
    "print(\"Filtered data saved successfully.\")\n"
   ]
  },
  {
   "cell_type": "code",
   "execution_count": 9,
   "metadata": {},
   "outputs": [
    {
     "name": "stdout",
     "output_type": "stream",
     "text": [
      "Last two rows removed and saved to new file.\n"
     ]
    }
   ],
   "source": [
    "import pandas as pd\n",
    "df = pd.read_csv('//Users/manishchetlapally/Documents/Spring 2024/DMQL/DMQLProject/Soccer/game_lineups.csv')\n",
    "df = df.iloc[:-2]\n",
    "df.to_csv('/Users/manishchetlapally/Documents/Spring 2024/DMQL/DMQLProject/Soccer/game_lineups.csv', index=False)\n",
    "print(\"Last two rows removed and saved to new file.\")\n"
   ]
  },
  {
   "cell_type": "code",
   "execution_count": 12,
   "metadata": {},
   "outputs": [
    {
     "name": "stdout",
     "output_type": "stream",
     "text": [
      "Filtered data saved successfully.\n"
     ]
    }
   ],
   "source": [
    "import pandas as pd\n",
    "games = pd.read_csv('/Users/manishchetlapally/Documents/Spring 2024/DMQL/DMQLProject/Soccer/games.csv')\n",
    "game_lineups = pd.read_csv('/Users/manishchetlapally/Documents/Spring 2024/DMQL/DMQLProject/Soccer/game_lineups.csv')\n",
    "games['game_id'] = games['game_id'].astype(int)\n",
    "game_lineups['game_id'] = game_lineups['game_id'].astype(int)\n",
    "valid_ids = set(games['game_id'])\n",
    "filtered_game_lineups = game_lineups[game_lineups['game_id'].isin(valid_ids)]\n",
    "filtered_game_lineups.to_csv('/Users/manishchetlapally/Documents/Spring 2024/DMQL/DMQLProject/Soccer/game_lineups.csv', index=False)\n",
    "print(\"Filtered data saved successfully.\")\n"
   ]
  },
  {
   "cell_type": "code",
   "execution_count": 13,
   "metadata": {},
   "outputs": [
    {
     "name": "stdout",
     "output_type": "stream",
     "text": [
      "Filtered data saved successfully.\n"
     ]
    }
   ],
   "source": [
    "import pandas as pd\n",
    "players = pd.read_csv('/Users/manishchetlapally/Documents/Spring 2024/DMQL/DMQLProject/Soccer/players.csv')\n",
    "game_lineups = pd.read_csv('/Users/manishchetlapally/Documents/Spring 2024/DMQL/DMQLProject/Soccer/game_lineups.csv')\n",
    "players['player_id'] = players['player_id'].astype(int)\n",
    "game_lineups['player_id'] = game_lineups['player_id'].apply(lambda x: int(float(x)))  # Convert from float to int\n",
    "valid_ids = set(players['player_id'])\n",
    "filtered_game_lineups = game_lineups[game_lineups['player_id'].isin(valid_ids)]\n",
    "filtered_game_lineups.to_csv('/Users/manishchetlapally/Documents/Spring 2024/DMQL/DMQLProject/Soccer/game_lineups.csv', index=False)\n",
    "print(\"Filtered data saved successfully.\")\n"
   ]
  },
  {
   "cell_type": "code",
   "execution_count": 17,
   "metadata": {},
   "outputs": [
    {
     "name": "stdout",
     "output_type": "stream",
     "text": [
      "Filtered data saved successfully.\n"
     ]
    }
   ],
   "source": [
    "import pandas as pd\n",
    "players = pd.read_csv('/Users/manishchetlapally/Documents/Spring 2024/DMQL/DMQLProject/Soccer/players.csv')\n",
    "game_events = pd.read_csv('/Users/manishchetlapally/Documents/Spring 2024/DMQL/DMQLProject/Soccer/game_events.csv')\n",
    "players['player_id'] = players['player_id'].astype(int)\n",
    "game_events['player_id'] = game_events['player_id'].apply(lambda x: int(float(x)))  # Convert from float to int if needed\n",
    "valid_ids = set(players['player_id'])\n",
    "filtered_game_events = game_events[game_events['player_id'].isin(valid_ids)]\n",
    "filtered_game_events.to_csv('/Users/manishchetlapally/Documents/Spring 2024/DMQL/DMQLProject/Soccer/game_events.csv', index=False)\n",
    "print(\"Filtered data saved successfully.\")\n"
   ]
  },
  {
   "cell_type": "code",
   "execution_count": 18,
   "metadata": {},
   "outputs": [
    {
     "name": "stdout",
     "output_type": "stream",
     "text": [
      "Filtered data saved successfully.\n"
     ]
    }
   ],
   "source": [
    "import pandas as pd\n",
    "clubs = pd.read_csv('/Users/manishchetlapally/Documents/Spring 2024/DMQL/DMQLProject/Soccer/clubs.csv')\n",
    "club_games = pd.read_csv('/Users/manishchetlapally/Documents/Spring 2024/DMQL/DMQLProject/Soccer/club_games.csv')\n",
    "clubs['club_id'] = clubs['club_id'].astype(int)\n",
    "club_games['club_id'] = club_games['club_id'].apply(lambda x: int(float(x))) \n",
    "valid_ids = set(clubs['club_id'])\n",
    "filtered_club_games = club_games[club_games['club_id'].isin(valid_ids)]\n",
    "filtered_club_games.to_csv('/Users/manishchetlapally/Documents/Spring 2024/DMQL/DMQLProject/Soccer/club_games.csv', index=False)\n",
    "print(\"Filtered data saved successfully.\")\n"
   ]
  },
  {
   "cell_type": "code",
   "execution_count": 19,
   "metadata": {},
   "outputs": [
    {
     "name": "stdout",
     "output_type": "stream",
     "text": [
      "Filtered data saved successfully.\n"
     ]
    }
   ],
   "source": [
    "import pandas as pd\n",
    "players = pd.read_csv('/Users/manishchetlapally/Documents/Spring 2024/DMQL/DMQLProject/Soccer/players.csv')\n",
    "appearances = pd.read_csv('/Users/manishchetlapally/Documents/Spring 2024/DMQL/DMQLProject/Soccer/appearances.csv')\n",
    "players['player_id'] = players['player_id'].astype(int)\n",
    "appearances['player_id'] = appearances['player_id'].apply(lambda x: int(float(x)))\n",
    "valid_ids = set(players['player_id'])\n",
    "filtered_appearances = appearances[appearances['player_id'].isin(valid_ids)]\n",
    "filtered_appearances.to_csv('/Users/manishchetlapally/Documents/Spring 2024/DMQL/DMQLProject/Soccer/appearances.csv', index=False)\n",
    "print(\"Filtered data saved successfully.\")\n"
   ]
  },
  {
   "cell_type": "code",
   "execution_count": null,
   "metadata": {},
   "outputs": [],
   "source": []
  }
 ],
 "metadata": {
  "kernelspec": {
   "display_name": "Python 3",
   "language": "python",
   "name": "python3"
  },
  "language_info": {
   "codemirror_mode": {
    "name": "ipython",
    "version": 3
   },
   "file_extension": ".py",
   "mimetype": "text/x-python",
   "name": "python",
   "nbconvert_exporter": "python",
   "pygments_lexer": "ipython3",
   "version": "3.11.4"
  }
 },
 "nbformat": 4,
 "nbformat_minor": 2
}
